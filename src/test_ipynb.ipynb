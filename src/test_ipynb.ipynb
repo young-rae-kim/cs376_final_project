{
  "nbformat": 4,
  "nbformat_minor": 0,
  "metadata": {
    "colab": {
      "name": "test.ipynb의 사본",
      "provenance": [],
      "collapsed_sections": []
    },
    "kernelspec": {
      "name": "python3",
      "display_name": "Python 3"
    },
    "language_info": {
      "name": "python"
    }
  },
  "cells": [
    {
      "cell_type": "markdown",
      "source": [
        "CS376 Project"
      ],
      "metadata": {
        "id": "lOmn2Z9bueRu"
      }
    },
    {
      "cell_type": "code",
      "execution_count": null,
      "metadata": {
        "colab": {
          "base_uri": "https://localhost:8080/"
        },
        "id": "O_W66pR9uSZh",
        "outputId": "6fa0ff5c-9790-471c-9bb1-79618e401a60"
      },
      "outputs": [
        {
          "output_type": "stream",
          "name": "stdout",
          "text": [
            "Hello, world!\n",
            "hello\n"
          ]
        }
      ],
      "source": [
        "import numpy as np\n",
        "\n",
        "print(\"Hello, world!\")"
      ]
    },
    {
      "cell_type": "code",
      "source": [
        "# modify here"
      ],
      "metadata": {
        "id": "u74xM07ku2By"
      },
      "execution_count": null,
      "outputs": []
    },
    {
      "cell_type": "code",
      "source": [
        "# 김성혁's code\n"
      ],
      "metadata": {
        "id": "96j5SgeHvYMI"
      },
      "execution_count": null,
      "outputs": []
    },
    {
      "cell_type": "code",
      "source": [
        "# 김영래's code\n"
      ],
      "metadata": {
        "id": "i73cNRk0vb4Y"
      },
      "execution_count": null,
      "outputs": []
    },
    {
      "cell_type": "code",
      "source": [
        "# 김병혁's code\n"
      ],
      "metadata": {
        "id": "A9Hb-JXTvdcu"
      },
      "execution_count": null,
      "outputs": []
    }
  ]
}